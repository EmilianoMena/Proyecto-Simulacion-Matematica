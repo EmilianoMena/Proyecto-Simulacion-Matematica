{
 "cells": [
  {
   "cell_type": "code",
   "execution_count": 1,
   "metadata": {},
   "outputs": [],
   "source": [
    "import numpy as np\n",
    "import sympy as sym\n",
    "import pandas as pd\n",
    "import matplotlib.pyplot as plt\n",
    "import scipy.optimize as opt"
   ]
  },
  {
   "cell_type": "markdown",
   "metadata": {},
   "source": [
    "*Integrantes:*\n",
    "* Emiliano Mena González\n",
    "* Luis Antonio Barriga Adame\n",
    "* Jorge Alberto Hernandez Hernandez"
   ]
  },
  {
   "cell_type": "markdown",
   "metadata": {},
   "source": [
    "# Tema Optimización"
   ]
  },
  {
   "cell_type": "markdown",
   "metadata": {},
   "source": [
    "**Objetivos**\n",
    "* Aplicar programación lineal para optimizar\n",
    "* Representar datos con gráficas\n",
    "* Interpretación de resultados numérica y gráficamente."
   ]
  },
  {
   "cell_type": "markdown",
   "metadata": {},
   "source": [
    "**Propósito del trabajo**\n",
    "\n",
    "Es aplicar programación lineal a la resolución de problemas reales, en este caso dirigido  a la maximización en la producción dada por cierta función, para así poder obtener los ingresos máximos."
   ]
  },
  {
   "cell_type": "markdown",
   "metadata": {},
   "source": [
    "**Objetivos especificos**\n",
    "\n",
    "Realizar la optimizacion de una funcion para una empresa que fabrica automoviles, para tener la mayor utilidad en su produccion dirigida a obtener los beneficios maximos que se pueden dar mensualmente.\n",
    "\n",
    "El modelo representa la produccion de automoviles actualmente.\n",
    "\n"
   ]
  },
  {
   "cell_type": "markdown",
   "metadata": {},
   "source": [
    " **Maximización de la producción en base a una función**"
   ]
  },
  {
   "cell_type": "markdown",
   "metadata": {},
   "source": [
    "El beneficio neto mensual en millones de dolares, de una empresa que fabrica automoviles viene dado por la función: $A(x)=3.6x-(0.6x)^2$ donde x es el número de automoviles frabicados en un mes.\n",
    "\n",
    "Queremos calcular la producción mensual que hacen máximo el beneficio.\n",
    "\n",
    "Queremos calcular el beneficio máximo correspondiente a dicha producción."
   ]
  },
  {
   "cell_type": "markdown",
   "metadata": {},
   "source": [
    "**Función a Optimizar:**\n",
    "\n",
    "\n",
    "\n",
    "$A(x)=3.6x-(0.6x)^2$"
   ]
  },
  {
   "cell_type": "markdown",
   "metadata": {},
   "source": [
    "# Modelo que representa al problema #\n"
   ]
  },
  {
   "cell_type": "markdown",
   "metadata": {},
   "source": [
    "$A(x)=3.6x-(0.6x)^2$"
   ]
  },
  {
   "cell_type": "markdown",
   "metadata": {},
   "source": [
    "Donde $\"x\"$ es nuestra variable de automóviles."
   ]
  },
  {
   "cell_type": "markdown",
   "metadata": {},
   "source": [
    "Para la resolución de este problema no tenemos restricciones"
   ]
  },
  {
   "cell_type": "markdown",
   "metadata": {},
   "source": [
    "**Resolviendo**"
   ]
  },
  {
   "cell_type": "markdown",
   "metadata": {},
   "source": [
    "1. Debemos derivar la función con respecto a \"x\"\n",
    "\n",
    "la derivada de 3.6$x$ es 3.6\n",
    "\n",
    "la derivada de -(0.6x)^2 es -0.72$x$\n",
    "\n",
    "y tenemos A'(x)= 3.6-0.72$x$\n",
    "\n",
    "2. Igualar la derivada a cero y despejar $\"x\"$\n",
    "\n",
    "3.6-0.72$x$=0\n",
    "\n",
    "3.6=0.72$x$\n",
    "\n",
    "3.6/0.72 = $x$\n",
    "\n",
    "5  =  $x$\n",
    "\n",
    "**Entonces sabemos que para obtener la producción que genere los ingresos máximos se deben fabricar 5 automóviles**"
   ]
  },
  {
   "cell_type": "markdown",
   "metadata": {},
   "source": [
    "# ¿Que situación representa el modelo? #"
   ]
  },
  {
   "cell_type": "markdown",
   "metadata": {},
   "source": [
    "*En base a los resultados númericos y a la representación gráfica, podemos decir que **9 automóviles**,es la cifra \n",
    "que necesitamos fabricar para así acceder a los **beneficios máximos** (que son 9 millones de dólares) en base a la función\n",
    "de producción que se tiene.*"
   ]
  },
  {
   "cell_type": "markdown",
   "metadata": {},
   "source": [
    "El modelo inicial representa la producción que la empresa tiene actualmente (mensualmente)"
   ]
  },
  {
   "cell_type": "markdown",
   "metadata": {},
   "source": [
    "En este caso este modelo no cuenta con limitaciones"
   ]
  },
  {
   "cell_type": "markdown",
   "metadata": {},
   "source": [
    "# Solucion del problema de optimización #"
   ]
  },
  {
   "cell_type": "code",
   "execution_count": 2,
   "metadata": {},
   "outputs": [
    {
     "data": {
      "text/latex": [
       "$\\displaystyle x$"
      ],
      "text/plain": [
       "x"
      ]
     },
     "execution_count": 2,
     "metadata": {},
     "output_type": "execute_result"
    }
   ],
   "source": [
    "sym.var (\"x\", real=True)"
   ]
  },
  {
   "cell_type": "code",
   "execution_count": 5,
   "metadata": {},
   "outputs": [
    {
     "data": {
      "text/latex": [
       "$\\displaystyle - 0.36 x^{2} + 3.6 x$"
      ],
      "text/plain": [
       "-0.36*x**2 + 3.6*x"
      ]
     },
     "execution_count": 5,
     "metadata": {},
     "output_type": "execute_result"
    }
   ],
   "source": [
    "def A(x):\n",
    "     return 3.6*x-(0.6*x)**2\n",
    "f(x)"
   ]
  },
  {
   "cell_type": "code",
   "execution_count": 6,
   "metadata": {},
   "outputs": [
    {
     "data": {
      "text/latex": [
       "$\\displaystyle 3.6 - 0.72 x$"
      ],
      "text/plain": [
       "3.6 - 0.72*x"
      ]
     },
     "execution_count": 6,
     "metadata": {},
     "output_type": "execute_result"
    }
   ],
   "source": [
    "df = sym.diff(A(x),x)\n",
    "df"
   ]
  },
  {
   "cell_type": "code",
   "execution_count": 8,
   "metadata": {},
   "outputs": [
    {
     "data": {
      "text/plain": [
       "[5.00000000000000]"
      ]
     },
     "execution_count": 8,
     "metadata": {},
     "output_type": "execute_result"
    }
   ],
   "source": [
    "c=sym.solve(df,x)\n",
    "c"
   ]
  },
  {
   "cell_type": "code",
   "execution_count": 9,
   "metadata": {},
   "outputs": [],
   "source": [
    "xnum= np.linspace(-10,15,50)\n",
    "ynum= A(xnum)"
   ]
  },
  {
   "cell_type": "code",
   "execution_count": 10,
   "metadata": {},
   "outputs": [
    {
     "data": {
      "image/png": "[encoded data removed]",
      "text/plain": [
       "<Figure size 720x360 with 1 Axes>"
      ]
     },
     "metadata": {
      "needs_background": "light"
     },
     "output_type": "display_data"
    }
   ],
   "source": [
    "plt.figure(figsize=(10,5))\n",
    "plt.plot(xnum,ynum,\"g\")\n",
    "plt.plot(c[0],A(c[0]),\"b^\",ms=15)\n",
    "plt.xlabel(\"No. Autos\")\n",
    "plt.grid()"
   ]
  },
  {
   "cell_type": "code",
   "execution_count": 12,
   "metadata": {},
   "outputs": [
    {
     "data": {
      "text/latex": [
       "$\\displaystyle -0.72$"
      ],
      "text/plain": [
       "-0.720000000000000"
      ]
     },
     "execution_count": 12,
     "metadata": {},
     "output_type": "execute_result"
    }
   ],
   "source": [
    "dff=sym.diff(df,x)\n",
    "dff"
   ]
  },
  {
   "cell_type": "markdown",
   "metadata": {},
   "source": [
    "$A(x)= 3.6x-(0.6x)^2$"
   ]
  },
  {
   "cell_type": "code",
   "execution_count": 13,
   "metadata": {},
   "outputs": [
    {
     "data": {
      "text/plain": [
       "9.0"
      ]
     },
     "execution_count": 13,
     "metadata": {},
     "output_type": "execute_result"
    }
   ],
   "source": [
    "A=3.6*(5)-(0.6*(5))**2\n",
    "A"
   ]
  },
  {
   "cell_type": "markdown",
   "metadata": {},
   "source": [
    "El algoritmo sí condujo a una solución factible, teniendo como referencia la solución gráfica que nos indica el 5 como nuestro máximo"
   ]
  },
  {
   "cell_type": "code",
   "execution_count": null,
   "metadata": {},
   "outputs": [],
   "source": []
  }
 ],
 "metadata": {
  "kernelspec": {
   "display_name": "Python 3",
   "language": "python",
   "name": "python3"
  },
  "language_info": {
   "codemirror_mode": {
    "name": "ipython",
    "version": 3
   },
   "file_extension": ".py",
   "mimetype": "text/x-python",
   "name": "python",
   "nbconvert_exporter": "python",
   "pygments_lexer": "ipython3",
   "version": "3.8.3"
  }
 },
 "nbformat": 4,
 "nbformat_minor": 4
}
