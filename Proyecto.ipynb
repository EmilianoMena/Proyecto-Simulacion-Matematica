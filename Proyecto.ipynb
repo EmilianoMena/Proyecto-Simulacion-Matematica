{
 "cells": [
  {
   "cell_type": "code",
   "execution_count": 17,
   "metadata": {},
   "outputs": [],
   "source": [
    "import numpy as np\n",
    "import sympy as sym\n",
    "import pandas as pd\n",
    "import matplotlib.pyplot as plt\n",
    "import scipy.optimize as opt"
   ]
  },
  {
   "cell_type": "markdown",
   "metadata": {},
   "source": [
    "*Integrantes:*\n",
    "* Emiliano Mena González\n",
    "* Luis Antonio Barriga Adame\n",
    "* Jorge Alberto Hernandez Hernandez"
   ]
  },
  {
   "cell_type": "markdown",
   "metadata": {},
   "source": [
    "# Tema Optimización de Funciónes"
   ]
  },
  {
   "cell_type": "markdown",
   "metadata": {},
   "source": [
    "**Objetivos**\n",
    "* Aplicar programación lineal para optimizar\n",
    "* Representar datos con gráficas\n",
    "* Interpretación de resultados numérica y gráficamente."
   ]
  },
  {
   "cell_type": "markdown",
   "metadata": {},
   "source": [
    "**Propósito del trabajo**\n",
    "\n",
    "Es aplicar programación lineal a la resolución de problemas reales, en este caso dirigido  a la maximización en la producción dada por cierta función, para así poder obtener los ingresos máximos."
   ]
  },
  {
   "cell_type": "markdown",
   "metadata": {},
   "source": [
    "**Objetivos especificos**\n",
    "\n",
    "Realizar la optimizacion de una funcion para una empresa que fabrica automoviles, para tener la mayor utilidad en su produccion dirigida a obtener los beneficios maximos que se pueden dar mensualmente.\n",
    "\n",
    "El modelo representa la produccion de automoviles actualmente.\n",
    "\n"
   ]
  },
  {
   "cell_type": "markdown",
   "metadata": {},
   "source": [
    " **Maximización de la producción en base a una función**"
   ]
  },
  {
   "cell_type": "markdown",
   "metadata": {},
   "source": [
    "El beneficio neto mensual en millones de dolares, de una empresa que fabrica automoviles viene dado por la función: $A(x)=3.6x-(0.6x)^2$ donde x es el número de automoviles frabicados en un mes.\n",
    "\n",
    "Queremos calcular la producción mensual que hacen máximo el beneficio.\n",
    "\n",
    "Queremos calcular el beneficio máximo correspondiente a dicha producción."
   ]
  },
  {
   "cell_type": "markdown",
   "metadata": {},
   "source": [
    "**Función a Optimizar:**\n",
    "\n",
    "\n",
    "\n",
    "$A(x)=3.6x-(0.6x)^2$"
   ]
  },
  {
   "cell_type": "markdown",
   "metadata": {},
   "source": [
    "# Modelo que representa al problema #\n"
   ]
  },
  {
   "cell_type": "markdown",
   "metadata": {},
   "source": [
    "$A(x)=3.6x-(0.6x)^2$"
   ]
  },
  {
   "cell_type": "markdown",
   "metadata": {},
   "source": [
    "Donde $\"x\"$ es nuestra variable de automóviles."
   ]
  },
  {
   "cell_type": "markdown",
   "metadata": {},
   "source": [
    "Para la resolución de este problema no tenemos restricciones"
   ]
  },
  {
   "cell_type": "markdown",
   "metadata": {},
   "source": [
    "**Resolviendo**"
   ]
  },
  {
   "cell_type": "markdown",
   "metadata": {},
   "source": [
    "1. Debemos derivar la función con respecto a \"x\"\n",
    "\n",
    "la derivada de 3.6$x$ es 3.6\n",
    "\n",
    "la derivada de -(0.6x)^2 es -0.72$x$\n",
    "\n",
    "y tenemos A'(x)= 3.6-0.72$x$\n",
    "\n",
    "2. Igualar la derivada a cero y despejar $\"x\"$\n",
    "\n",
    "3.6-0.72$x$=0\n",
    "\n",
    "3.6=0.72$x$\n",
    "\n",
    "3.6/0.72 = $x$\n",
    "\n",
    "5  =  $x$\n",
    "\n",
    "**Entonces sabemos que para obtener la producción que genere los ingresos máximos se deben fabricar 5 automóviles**"
   ]
  },
  {
   "cell_type": "markdown",
   "metadata": {},
   "source": [
    "# ¿Que situación representa el modelo? #"
   ]
  },
  {
   "cell_type": "markdown",
   "metadata": {},
   "source": [
    "*En base a los resultados númericos y a la representación gráfica, podemos decir que **9 automóviles**,es la cifra \n",
    "que necesitamos fabricar para así acceder a los **beneficios máximos** (que son 9 millones de dólares) en base a la función\n",
    "de producción que se tiene.*"
   ]
  },
  {
   "cell_type": "markdown",
   "metadata": {},
   "source": [
    "El modelo inicial representa la producción que la empresa tiene actualmente (mensualmente)"
   ]
  },
  {
   "cell_type": "markdown",
   "metadata": {},
   "source": [
    "En este caso este modelo no cuenta con limitaciones"
   ]
  },
  {
   "cell_type": "markdown",
   "metadata": {},
   "source": [
    "# Solucion del problema de optimización #"
   ]
  },
  {
   "cell_type": "code",
   "execution_count": 18,
   "metadata": {},
   "outputs": [
    {
     "data": {
      "text/latex": [
       "$\\displaystyle x$"
      ],
      "text/plain": [
       "x"
      ]
     },
     "execution_count": 18,
     "metadata": {},
     "output_type": "execute_result"
    }
   ],
   "source": [
    "sym.var (\"x\", real=True)"
   ]
  },
  {
   "cell_type": "code",
   "execution_count": 19,
   "metadata": {},
   "outputs": [
    {
     "data": {
      "text/latex": [
       "$\\displaystyle - 0.36 x^{2} + 3.6 x$"
      ],
      "text/plain": [
       "-0.36*x**2 + 3.6*x"
      ]
     },
     "execution_count": 19,
     "metadata": {},
     "output_type": "execute_result"
    }
   ],
   "source": [
    "def A(x):\n",
    "     return 3.6*x-(0.6*x)**2\n",
    "A(x)"
   ]
  },
  {
   "cell_type": "code",
   "execution_count": 20,
   "metadata": {},
   "outputs": [
    {
     "data": {
      "text/latex": [
       "$\\displaystyle 3.6 - 0.72 x$"
      ],
      "text/plain": [
       "3.6 - 0.72*x"
      ]
     },
     "execution_count": 20,
     "metadata": {},
     "output_type": "execute_result"
    }
   ],
   "source": [
    "df = sym.diff(A(x),x)\n",
    "df"
   ]
  },
  {
   "cell_type": "code",
   "execution_count": 21,
   "metadata": {},
   "outputs": [
    {
     "data": {
      "text/plain": [
       "[5.00000000000000]"
      ]
     },
     "execution_count": 21,
     "metadata": {},
     "output_type": "execute_result"
    }
   ],
   "source": [
    "c=sym.solve(df,x)\n",
    "c"
   ]
  },
  {
   "cell_type": "markdown",
   "metadata": {},
   "source": [
    "**Esto nos indica la producción de autos necesaria para obtener los máximos ingresos**"
   ]
  },
  {
   "cell_type": "code",
   "execution_count": 22,
   "metadata": {},
   "outputs": [],
   "source": [
    "xnum= np.linspace(-10,15,50)\n",
    "ynum= A(xnum)"
   ]
  },
  {
   "cell_type": "code",
   "execution_count": 23,
   "metadata": {},
   "outputs": [
    {
     "data": {
      "image/png": "[encoded data removed]",
      "text/plain": [
       "<Figure size 720x360 with 1 Axes>"
      ]
     },
     "metadata": {
      "needs_background": "light"
     },
     "output_type": "display_data"
    }
   ],
   "source": [
    "plt.figure(figsize=(10,5))\n",
    "plt.plot(xnum,ynum,\"g\")\n",
    "plt.plot(c[0],A(c[0]),\"b^\",ms=15)\n",
    "plt.xlabel(\"No. Autos\")\n",
    "plt.ylabel(\"Ingresos en millones de dolares\")\n",
    "plt.grid()"
   ]
  },
  {
   "cell_type": "code",
   "execution_count": 24,
   "metadata": {},
   "outputs": [
    {
     "data": {
      "text/latex": [
       "$\\displaystyle -0.72$"
      ],
      "text/plain": [
       "-0.720000000000000"
      ]
     },
     "execution_count": 24,
     "metadata": {},
     "output_type": "execute_result"
    }
   ],
   "source": [
    "dff=sym.diff(df,x)\n",
    "dff"
   ]
  },
  {
   "cell_type": "markdown",
   "metadata": {},
   "source": [
    "$A(x)= 3.6x-(0.6x)^2$"
   ]
  },
  {
   "cell_type": "markdown",
   "metadata": {},
   "source": [
    "Sustituyendo nuestro máximo en la función inicial \n",
    "\n",
    "$A(x)= 3.6(5)-(0.6(5))^2$"
   ]
  },
  {
   "cell_type": "code",
   "execution_count": 13,
   "metadata": {},
   "outputs": [
    {
     "data": {
      "text/plain": [
       "9.0"
      ]
     },
     "execution_count": 13,
     "metadata": {},
     "output_type": "execute_result"
    }
   ],
   "source": [
    "A=3.6*(5)-(0.6*(5))**2\n",
    "A"
   ]
  },
  {
   "cell_type": "markdown",
   "metadata": {},
   "source": [
    "**Las ganacias serán 9 millones de dolares al mes si se producen 5 autos**"
   ]
  },
  {
   "cell_type": "markdown",
   "metadata": {},
   "source": [
    "El algoritmo sí condujo a una solución factible, teniendo como primera referencia la solución de derivadas e igualando a cero, además de la segunda referencia qué es la solución gráfica que indica el 5 como nuestro máximo"
   ]
  },
  {
   "cell_type": "markdown",
   "metadata": {},
   "source": [
    "# Conclusiónes\n",
    "Este tipo de problemas son utiles para gestionar empresas y su produccion, buscamos maximizar las utilidades de la empresa sabiendo cual es su produccion dada por una funcion.\n",
    "\n",
    "Ademas de saber que utilizando programaci{on lineal podemos resolver estos problemas que busquen una maximizaci{on  de los recuersos o ingresos, o depende de cada caso; apoyandonos de gr{aficas para hacer la interpretaci{on de los resultados m{as didactica.\n",
    "\n",
    "**Referencias**\n",
    "\n",
    "Modelos Deterministas: Optimización Lineal. (s. f.). Modelos Deterministas: Optimización Lineal. Recuperado 30 de septiembre de 2020, de http://home.ubalt.edu/ntsbarsh/opre640s/spanishd.htm#rCarpenterPr"
   ]
  },
  {
   "cell_type": "code",
   "execution_count": null,
   "metadata": {},
   "outputs": [],
   "source": []
  }
 ],
 "metadata": {
  "kernelspec": {
   "display_name": "Python 3",
   "language": "python",
   "name": "python3"
  },
  "language_info": {
   "codemirror_mode": {
    "name": "ipython",
    "version": 3
   },
   "file_extension": ".py",
   "mimetype": "text/x-python",
   "name": "python",
   "nbconvert_exporter": "python",
   "pygments_lexer": "ipython3",
   "version": "3.8.3"
  }
 },
 "nbformat": 4,
 "nbformat_minor": 4
}
