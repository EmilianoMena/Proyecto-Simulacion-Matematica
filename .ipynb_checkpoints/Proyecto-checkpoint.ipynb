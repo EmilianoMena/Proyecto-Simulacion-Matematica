{
 "cells": [
  {
   "cell_type": "code",
   "execution_count": 2,
   "metadata": {},
   "outputs": [],
   "source": [
    "import numpy as np\n",
    "import sympy as sym\n",
    "import pandas as pd\n",
    "import matplotlib.pyplot as plt\n",
    "import scipy.optimize as opt"
   ]
  },
  {
   "cell_type": "markdown",
   "metadata": {},
   "source": [
    "*Integrantes:*\n",
    "* Emiliano Mena González\n",
    "* Luis Antonio Barriga Adame\n",
    "* Jorge Alberto Hernandez Hernandez"
   ]
  },
  {
   "cell_type": "markdown",
   "metadata": {},
   "source": [
    "# Tema Optimización"
   ]
  },
  {
   "cell_type": "markdown",
   "metadata": {},
   "source": [
    "**Objetivos**\n",
    "* Aplicar programación lineal para optimizar\n",
    "* Representar datos con gráficas\n",
    "* Interpretación de resultados numérica y gráficamente."
   ]
  },
  {
   "cell_type": "markdown",
   "metadata": {},
   "source": [
    "**Propósito del trabajo**\n",
    "\n",
    "Es aplicar programación lineal a la resolución de problemas reales, en este caso dirigido  a la maximización en la producción dada por cierta función, para así poder obtener los ingresos máximos."
   ]
  },
  {
   "cell_type": "markdown",
   "metadata": {},
   "source": [
    "**Objetivos especificos**\n",
    "\n",
    "Realizar la optimizacion de una funcion para una empresa que fabrica automoviles, para tener la mayor utilidad en su produccion dirigida a obtener los beneficios maximos que se pueden dar mensualmente.\n",
    "\n",
    "El modelo representa la produccion de automoviles actualmente.\n",
    "\n"
   ]
  },
  {
   "cell_type": "markdown",
   "metadata": {},
   "source": [
    " **Maximización de la producción en base a una función**"
   ]
  },
  {
   "cell_type": "markdown",
   "metadata": {},
   "source": [
    "El beneficio neto mensual en millones de euros, de una empresa que fabrica automoviles viene dado por la función: $B(x)=3.6x-(0.6x)^2$ donde x es el número de automoviles frabicados en un mes.\n",
    "\n",
    "Queremos calcular la producción mensual que hacen máximo el beneficio.\n",
    "\n",
    "Queremos calcular el beneficio máximo correspondiente a dicha producción."
   ]
  },
  {
   "cell_type": "markdown",
   "metadata": {},
   "source": [
    "**Función a Optimizar:**\n",
    "\n",
    "\n",
    "\n",
    "$f(x)=3.6x-(0.6x)^2$"
   ]
  },
  {
   "cell_type": "code",
   "execution_count": 6,
   "metadata": {},
   "outputs": [
    {
     "data": {
      "text/latex": [
       "$\\displaystyle x$"
      ],
      "text/plain": [
       "x"
      ]
     },
     "execution_count": 6,
     "metadata": {},
     "output_type": "execute_result"
    }
   ],
   "source": [
    "sym.var (\"x\", real=True)"
   ]
  },
  {
   "cell_type": "code",
   "execution_count": 8,
   "metadata": {},
   "outputs": [
    {
     "data": {
      "text/latex": [
       "$\\displaystyle - 0.36 x^{2} + 3.6 x$"
      ],
      "text/plain": [
       "-0.36*x**2 + 3.6*x"
      ]
     },
     "execution_count": 8,
     "metadata": {},
     "output_type": "execute_result"
    }
   ],
   "source": [
    "def f(x):\n",
    "     return 3.6*x-(0.6*x)**2\n",
    "f(x)"
   ]
  },
  {
   "cell_type": "code",
   "execution_count": null,
   "metadata": {},
   "outputs": [],
   "source": []
  }
 ],
 "metadata": {
  "kernelspec": {
   "display_name": "Python 3",
   "language": "python",
   "name": "python3"
  },
  "language_info": {
   "codemirror_mode": {
    "name": "ipython",
    "version": 3
   },
   "file_extension": ".py",
   "mimetype": "text/x-python",
   "name": "python",
   "nbconvert_exporter": "python",
   "pygments_lexer": "ipython3",
   "version": "3.8.3"
  }
 },
 "nbformat": 4,
 "nbformat_minor": 4
}
